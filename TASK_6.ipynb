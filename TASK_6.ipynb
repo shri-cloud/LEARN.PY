{
  "nbformat": 4,
  "nbformat_minor": 0,
  "metadata": {
    "colab": {
      "name": "TASK 6.ipynb",
      "provenance": [],
      "include_colab_link": true
    },
    "kernelspec": {
      "name": "python3",
      "display_name": "Python 3"
    },
    "language_info": {
      "name": "python"
    }
  },
  "cells": [
    {
      "cell_type": "markdown",
      "metadata": {
        "id": "view-in-github",
        "colab_type": "text"
      },
      "source": [
        "<a href=\"https://colab.research.google.com/github/shri-cloud/LEARN.PY/blob/main/TASK_6.ipynb\" target=\"_parent\"><img src=\"https://colab.research.google.com/assets/colab-badge.svg\" alt=\"Open In Colab\"/></a>"
      ]
    },
    {
      "cell_type": "markdown",
      "metadata": {
        "id": "2aT_QhgIny6V"
      },
      "source": [
        "1. Write a Python program to find those numbers which are divisible by 7 and multiple of 11, between 1000 and 2000 (both included)."
      ]
    },
    {
      "cell_type": "code",
      "metadata": {
        "id": "KlFG2BFZoEEU"
      },
      "source": [
        "#please enter your answer below this line\n",
        "nl=[]\n",
        "for x in range(1000 , 2000):\n",
        "  if (x%7==0) and (x%11==0):\n",
        "    nl.append(str(x))\n",
        "    print(' ',x)  "
      ],
      "execution_count": null,
      "outputs": []
    },
    {
      "cell_type": "markdown",
      "metadata": {
        "id": "ZesHXUMboLu7"
      },
      "source": [
        "2. Write a program to print this pattern\n",
        "\n",
        "           #\n",
        "          ## \n",
        "         ###"
      ]
    },
    {
      "cell_type": "code",
      "metadata": {
        "id": "64-aUjWbohqz"
      },
      "source": [
        "#please enter your answer below this line\n",
        "def pypart2(n):\n",
        "  \n",
        "  k = 2*n - 2\n",
        " \n",
        "  for i in range(0, n):\n",
        "    \n",
        "    for j in range(0, k):\n",
        "     \n",
        "      print(end=\" \")\n",
        " \n",
        "    k = k - 2\n",
        "  \n",
        "    for j in range(0, i+1):\n",
        "   \n",
        "      print(\"# \", end=\"\")\n",
        " \n",
        "    print(\"\\r\")\n",
        "\n",
        "n = 3\n",
        "pypart2(n)"
      ],
      "execution_count": null,
      "outputs": []
    },
    {
      "cell_type": "markdown",
      "metadata": {
        "id": "6ZepaaI-ow6W"
      },
      "source": [
        "3. list=[apple, orange, apple, banana]\n",
        ". Replace all the apple in the list with grapes using for loop"
      ]
    },
    {
      "cell_type": "code",
      "metadata": {
        "id": "D7UOyf_6o6Ax"
      },
      "source": [
        "#please enter your answer below this line\n",
        "fruits=[\"apple\",\"orange\",\"apple\",\"banana\"]\n",
        "for index, item in enumerate(fruits):\n",
        "    if item==\"apple\":\n",
        "      fruits[index]=\"grapes\"\n",
        "print(fruits)"
      ],
      "execution_count": null,
      "outputs": []
    }
  ]
}