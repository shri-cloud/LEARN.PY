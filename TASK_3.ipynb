{
  "nbformat": 4,
  "nbformat_minor": 0,
  "metadata": {
    "colab": {
      "name": "TASK 3.ipynb",
      "provenance": [],
      "include_colab_link": true
    },
    "kernelspec": {
      "name": "python3",
      "display_name": "Python 3"
    },
    "language_info": {
      "name": "python"
    }
  },
  "cells": [
    {
      "cell_type": "markdown",
      "metadata": {
        "id": "view-in-github",
        "colab_type": "text"
      },
      "source": [
        "<a href=\"https://colab.research.google.com/github/shri-cloud/LEARN.PY/blob/main/TASK_3.ipynb\" target=\"_parent\"><img src=\"https://colab.research.google.com/assets/colab-badge.svg\" alt=\"Open In Colab\"/></a>"
      ]
    },
    {
      "cell_type": "markdown",
      "metadata": {
        "id": "z20IIB0eUQMN"
      },
      "source": [
        "1 - Write a program which takes a number as input from the user and check whether the number is odd or even.If odd print the number is odd if not print it is even."
      ]
    },
    {
      "cell_type": "code",
      "metadata": {
        "id": "dVgGJ-wTVRit"
      },
      "source": [
        "#please enter your answer below this line\n",
        "num=int(input(\"Enter a number : \"))\n",
        "mod=num % 2\n",
        "if mod>0 : print(\"This is an odd number.\")\n",
        "else : print(\"This is an even number.\")"
      ],
      "execution_count": null,
      "outputs": []
    },
    {
      "cell_type": "markdown",
      "metadata": {
        "id": "7778XD8PVblj"
      },
      "source": [
        "2 -Write a program to find the largest among three numbers and print the largest number."
      ]
    },
    {
      "cell_type": "code",
      "metadata": {
        "id": "m0tUOkOFWR-d"
      },
      "source": [
        "#please enter your answer below this line\n",
        "num1=float(input(\"Enter first number: \"))\n",
        "num2=float(input(\"Enter second number: \"))\n",
        "num3=float(input(\"Enter third number: \"))\n",
        "if (num1>=num2) and (num1>=num3) : largest = num1\n",
        "elif (num2>=num1) and (num2>=num3) : largest = num2\n",
        "else : largest = num3\n",
        "print(\"The largest number is \" , largest)"
      ],
      "execution_count": null,
      "outputs": []
    },
    {
      "cell_type": "markdown",
      "metadata": {
        "id": "Jg2Ns4OQWaJy"
      },
      "source": [
        "3 -Write a function to prompt for a score between 0.0 and 1.0.\n",
        "\n",
        "    If the score is out of range, print an error.\n",
        "    If the score is between 0.0 and 1.0, print a grade using the following table:\n",
        "    Score Grade\n",
        "             Score\tGrade\n",
        "            >= 0.9\tA\n",
        "            >= 0.8\tB\n",
        "            >= 0.7\tC\n",
        "            >= 0.6\tD\n",
        "             < 0.6\tF\n",
        "If the user enters a value out of range, print a suitable error message and exit. For the test, enter a score of 0.85."
      ]
    },
    {
      "cell_type": "code",
      "metadata": {
        "id": "6UUkfYMmuECp"
      },
      "source": [
        ""
      ],
      "execution_count": null,
      "outputs": []
    },
    {
      "cell_type": "code",
      "metadata": {
        "id": "6DLbGe6XXZPx"
      },
      "source": [
        "#please enter your answer below this line\n",
        "score=float(input(\"Enter the score: \"))\n",
        "x=\"ERROR\"\n",
        "if  score <= 0.0 or score >= 1.0 : x = \"INVALID , enter valid score. \"\n",
        "elif score >= 0.9 : x =\"A\"\n",
        "elif score >= 0.8 : x = \"B\"\n",
        "elif score >=0.7 : x = \"C\"\n",
        "elif score >= 0.6 : x = \"D\"\n",
        "elif score < 0.6 : x =\"F\"\n",
        "else : x = \"Invalid score\"\n",
        "print(x)"
      ],
      "execution_count": null,
      "outputs": []
    },
    {
      "cell_type": "markdown",
      "metadata": {
        "id": "-o0scDq7WkVT"
      },
      "source": [
        ""
      ]
    }
  ]
}