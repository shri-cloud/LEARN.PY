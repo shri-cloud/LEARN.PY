{
  "nbformat": 4,
  "nbformat_minor": 0,
  "metadata": {
    "colab": {
      "name": "TASK 13.ipynb",
      "provenance": [],
      "include_colab_link": true
    },
    "kernelspec": {
      "name": "python3",
      "display_name": "Python 3"
    },
    "language_info": {
      "name": "python"
    }
  },
  "cells": [
    {
      "cell_type": "markdown",
      "metadata": {
        "id": "view-in-github",
        "colab_type": "text"
      },
      "source": [
        "<a href=\"https://colab.research.google.com/github/shri-cloud/LEARN.PY/blob/main/TASK_13.ipynb\" target=\"_parent\"><img src=\"https://colab.research.google.com/assets/colab-badge.svg\" alt=\"Open In Colab\"/></a>"
      ]
    },
    {
      "cell_type": "markdown",
      "metadata": {
        "id": "RUSoRkrOqNwf"
      },
      "source": [
        "1. Create a 3x3 array values ranging from 0-8.Find the sum of the elements in this array."
      ]
    },
    {
      "cell_type": "code",
      "metadata": {
        "id": "t01ATYQpqq8u"
      },
      "source": [
        "#please enter your code below this line.\n",
        "import numpy as np\n",
        "x=np.array([[0,1,2],[3,4,5],[6,7,8]])\n",
        "print(x)\n",
        "ans=np.sum(x)\n",
        "print(\"Sum of array is :\" ,ans)"
      ],
      "execution_count": null,
      "outputs": []
    },
    {
      "cell_type": "markdown",
      "metadata": {
        "id": "k3Y7nQF7r3IW"
      },
      "source": [
        "2. Create a 3x3 array values ranging from 0-8.Find the row sum and column sum of this array."
      ]
    },
    {
      "cell_type": "code",
      "metadata": {
        "id": "BzvIlWfvsICv"
      },
      "source": [
        "#please enter your code below this line.\n",
        "import numpy as np\n",
        "x=np.array([[0,1,2],[3,4,5],[6,7,8]])\n",
        "print(x)\n",
        "rows=len(x);\n",
        "cols=len(x[0]);\n",
        "for i in range(0,rows):\n",
        "  Row=0;\n",
        "  for j in range(0,cols):\n",
        "    Row=Row + x[i][j];\n",
        "  print(\"Sum of \" + str(i+1) + \" row :\" ,str(Row))\n",
        "for i in range(0,rows):\n",
        "  Col=0\n",
        "  for j in range(0,cols):\n",
        "    Col=Col + x[j][i];\n",
        "  print(\"Sum of \" + str(i+1) + \" column :\" ,str(Col))"
      ],
      "execution_count": null,
      "outputs": []
    },
    {
      "cell_type": "markdown",
      "metadata": {
        "id": "KOPMsbnrsgue"
      },
      "source": [
        "3. Create a 4x4 array values ranging from 0-15. Now,\n",
        "\n",
        "    a) Find the mininmum value in the array.\n",
        "    \n",
        "    b) Find the maximum value in the array.\n",
        "\n",
        "    c) Find the mean of the values in the array."
      ]
    },
    {
      "cell_type": "code",
      "metadata": {
        "id": "1UzITxp3WDaW"
      },
      "source": [
        "#please enter your code belowthis line.\n",
        "import numpy as np\n",
        "x=np.array([[0,1,2,3],[4,5,6,7],[8,9,10,11],[12,13,14,15]])\n",
        "print(x)\n",
        "print(\"Maximum value in array :\" ,np.max(x))\n",
        "print(\"Minimum value in array :\" ,np.min(x))\n",
        "print(\"Mean value of array :\" ,np.mean(x))"
      ],
      "execution_count": null,
      "outputs": []
    },
    {
      "cell_type": "markdown",
      "metadata": {
        "id": "Pah9qGButoz2"
      },
      "source": [
        "4. Create an 10x10 array values ranging from 0-99.And ,\n",
        "\n",
        "    a) Print the 7th row.\n",
        "    \n",
        "    b) Print the rows from 4-8.\n",
        "\n",
        "    c) Print the value at the index 5,5.\n",
        "\n",
        "    d) Print the 5th colomn.\n",
        "\n",
        "    e) Print the columns from 2-5."
      ]
    },
    {
      "cell_type": "code",
      "metadata": {
        "id": "JFXPq0GkvhKi"
      },
      "source": [
        "#please enter your code below this line.\n"
      ],
      "execution_count": null,
      "outputs": []
    }
  ]
}