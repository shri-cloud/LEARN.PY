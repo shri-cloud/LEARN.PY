{
  "nbformat": 4,
  "nbformat_minor": 0,
  "metadata": {
    "colab": {
      "name": "TASK 18.ipynb",
      "provenance": [],
      "include_colab_link": true
    },
    "kernelspec": {
      "name": "python3",
      "display_name": "Python 3"
    },
    "language_info": {
      "name": "python"
    }
  },
  "cells": [
    {
      "cell_type": "markdown",
      "metadata": {
        "id": "view-in-github",
        "colab_type": "text"
      },
      "source": [
        "<a href=\"https://colab.research.google.com/github/shri-cloud/LEARN.PY/blob/main/TASK_18.ipynb\" target=\"_parent\"><img src=\"https://colab.research.google.com/assets/colab-badge.svg\" alt=\"Open In Colab\"/></a>"
      ]
    },
    {
      "cell_type": "markdown",
      "metadata": {
        "id": "_JgXT8pEAjU4"
      },
      "source": [
        "1. \n",
        "Create a DataFrame by passing a random numpy array,with a datetie index and labelled columns.and,\n",
        "    - slice its first three rows and display.\n",
        "    - slice its odd indexed rows.\n",
        "    - display the dates from 1st postion to 4 th position."
      ]
    },
    {
      "cell_type": "code",
      "metadata": {
        "id": "5zFM5VOJBKBV",
        "outputId": "10468844-2fc0-4e86-a60e-cbac88b1a756",
        "colab": {
          "base_uri": "https://localhost:8080/"
        }
      },
      "source": [
        "#please provide your answer below this line.\n",
        "import numpy as np\n",
        "import pandas as pd\n",
        "datetie = pd.date_range('2021-09-01',periods=6)\n",
        "df = pd.DataFrame(np.random.randn(6,6), index=datetie, columns = list('ABCDEF'))\n",
        "df1 = df.iloc[0:3]\n",
        "print(\"First 3 rows\")\n",
        "print(df1)\n",
        "df2 = df.iloc[0:2]\n",
        "print(\"Odd indexed rows\")\n",
        "print(df2)\n",
        "df3 = df.iloc[1:4,0:0]\n",
        "print(\"Dates from first position to fourth position\")\n",
        "print(df3)"
      ],
      "execution_count": 2,
      "outputs": [
        {
          "output_type": "stream",
          "name": "stdout",
          "text": [
            "First 3 rows\n",
            "                   A         B         C         D         E         F\n",
            "2021-09-01  0.417956 -0.033560 -1.532112  0.091739  0.747827  0.851655\n",
            "2021-09-02 -0.915776 -0.210305  1.655804 -0.535490  0.236001  0.737321\n",
            "2021-09-03 -0.369745  0.624486 -0.775419  1.201865  0.153991 -0.820166\n",
            "Odd indexed rows\n",
            "                   A         B         C         D         E         F\n",
            "2021-09-01  0.417956 -0.033560 -1.532112  0.091739  0.747827  0.851655\n",
            "2021-09-02 -0.915776 -0.210305  1.655804 -0.535490  0.236001  0.737321\n",
            "Dates from first position to fourth position\n",
            "Empty DataFrame\n",
            "Columns: []\n",
            "Index: [2021-09-02 00:00:00, 2021-09-03 00:00:00, 2021-09-04 00:00:00]\n"
          ]
        }
      ]
    },
    {
      "cell_type": "markdown",
      "metadata": {
        "id": "QuoucvjxBPmX"
      },
      "source": [
        "2. Create a DataFrame by passing a random numpy array,with a datetie index and labelled columns.and\n",
        "  - Dislplay the index from the 1 to 3 date and the columns A and B of respective data.\n",
        "  - Display the datas at the 3rd index.\n",
        "  - Display datas from 2nd to 5th.\n",
        "  - Display the datas from the index 1,2,4 and the column 0 and 2."
      ]
    },
    {
      "cell_type": "code",
      "metadata": {
        "id": "qV_wzsp1DUKI",
        "outputId": "e603dcc7-4478-4da5-a471-c09d1abfda2e",
        "colab": {
          "base_uri": "https://localhost:8080/"
        }
      },
      "source": [
        "#please provide your answer below thins line.\n",
        "df1 = df.loc[['2021-09-02','2021-09-03','2021-09-04'],['A','B']]\n",
        "print(df1)\n",
        "df2 = df.loc['2021-09-04']\n",
        "print(\"Datas at the third index\")\n",
        "print(df2)\n",
        "df3 = df.loc[['2021-09-03','2021-09-04','2021-09-05','2021-09-06']]\n",
        "print(\"Datas from index second to fifth\")\n",
        "print(df3)\n",
        "df4 = df.loc[['2021-09-02','2021-09-03','2021-09-05'],['A','C']]\n",
        "print(\"Datas from index 1,2,4 and the column 0 and 2\")\n",
        "print(df4)\n"
      ],
      "execution_count": 3,
      "outputs": [
        {
          "output_type": "stream",
          "name": "stdout",
          "text": [
            "                   A         B\n",
            "2021-09-02 -0.915776 -0.210305\n",
            "2021-09-03 -0.369745  0.624486\n",
            "2021-09-04 -0.708991 -0.760096\n",
            "Datas at the third index\n",
            "A   -0.708991\n",
            "B   -0.760096\n",
            "C   -0.237252\n",
            "D   -0.159564\n",
            "E   -2.128308\n",
            "F   -1.253095\n",
            "Name: 2021-09-04 00:00:00, dtype: float64\n",
            "Datas from index second to fifth\n",
            "                   A         B         C         D         E         F\n",
            "2021-09-03 -0.369745  0.624486 -0.775419  1.201865  0.153991 -0.820166\n",
            "2021-09-04 -0.708991 -0.760096 -0.237252 -0.159564 -2.128308 -1.253095\n",
            "2021-09-05 -0.420863 -0.217942 -0.272210 -1.444509 -0.305573 -0.371886\n",
            "2021-09-06 -0.831017 -1.261685  0.811343  0.120576  0.606788 -0.211827\n",
            "Datas from index 1,2,4 and the column 0 and 2\n",
            "                   A         C\n",
            "2021-09-02 -0.915776  1.655804\n",
            "2021-09-03 -0.369745 -0.775419\n",
            "2021-09-05 -0.420863 -0.272210\n"
          ]
        }
      ]
    }
  ]
}