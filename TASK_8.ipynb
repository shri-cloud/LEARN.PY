{
  "nbformat": 4,
  "nbformat_minor": 0,
  "metadata": {
    "colab": {
      "name": "TASK 8.ipynb",
      "provenance": [],
      "include_colab_link": true
    },
    "kernelspec": {
      "name": "python3",
      "display_name": "Python 3"
    },
    "language_info": {
      "name": "python"
    }
  },
  "cells": [
    {
      "cell_type": "markdown",
      "metadata": {
        "id": "view-in-github",
        "colab_type": "text"
      },
      "source": [
        "<a href=\"https://colab.research.google.com/github/shri-cloud/LEARN.PY/blob/main/TASK_8.ipynb\" target=\"_parent\"><img src=\"https://colab.research.google.com/assets/colab-badge.svg\" alt=\"Open In Colab\"/></a>"
      ]
    },
    {
      "cell_type": "markdown",
      "metadata": {
        "id": "slsGswYbJSo7"
      },
      "source": [
        "1. Generate a 3 x 3 matrix using random module."
      ]
    },
    {
      "cell_type": "code",
      "metadata": {
        "id": "GGRQSYyNJW9t"
      },
      "source": [
        "#please provide your answer below this line.\n",
        "import numpy as np\n",
        "x = np.arange(1,10).reshape(3,3)\n",
        "print(x)"
      ],
      "execution_count": null,
      "outputs": []
    },
    {
      "cell_type": "markdown",
      "metadata": {
        "id": "4OB9KFX6JfYA"
      },
      "source": [
        "2. Generate two 4 x 4 matrix using numpy and \n",
        "\n",
        " a) Reshape it to 2 x 8matrix and vertically stack it.\n",
        "\n",
        " b) Reshape it to 2 x 8 matrix and horizontally stack it."
      ]
    },
    {
      "cell_type": "code",
      "metadata": {
        "id": "VoIqYeNWJ4H_"
      },
      "source": [
        "#please provide your answer below this line.\n",
        "import numpy as np\n",
        "x = np.arange(1,17).reshape(4,4)\n",
        "print(x)\n",
        "y = np.arange(17,33).reshape(4,4)\n",
        "print(y)\n",
        "x = np.arange(1,17).reshape(2,8)\n",
        "y = np.arange(17,33).reshape(2,8)\n",
        "a = np.vstack((x,y))\n",
        "print(a)\n",
        "b = np.stack((x,y))\n",
        "print(b)"
      ],
      "execution_count": null,
      "outputs": []
    }
  ]
}