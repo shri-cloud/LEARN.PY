{
  "nbformat": 4,
  "nbformat_minor": 0,
  "metadata": {
    "colab": {
      "name": "TASK 20.ipynb",
      "provenance": [],
      "include_colab_link": true
    },
    "kernelspec": {
      "name": "python3",
      "display_name": "Python 3"
    },
    "language_info": {
      "name": "python"
    }
  },
  "cells": [
    {
      "cell_type": "markdown",
      "metadata": {
        "id": "view-in-github",
        "colab_type": "text"
      },
      "source": [
        "<a href=\"https://colab.research.google.com/github/shri-cloud/LEARN.PY/blob/main/TASK_20.ipynb\" target=\"_parent\"><img src=\"https://colab.research.google.com/assets/colab-badge.svg\" alt=\"Open In Colab\"/></a>"
      ]
    },
    {
      "cell_type": "markdown",
      "metadata": {
        "id": "8LIfdcjDWmC3"
      },
      "source": [
        "1. In the data given below,\n",
        "  - find the boolean mask where value is nan\n",
        "  - remove the row with missing data.\n"
      ]
    },
    {
      "cell_type": "markdown",
      "metadata": {
        "id": "VPCGISRTbYPz"
      },
      "source": [
        ""
      ]
    },
    {
      "cell_type": "code",
      "metadata": {
        "colab": {
          "base_uri": "https://localhost:8080/"
        },
        "id": "VsZQYRqXXHpG",
        "outputId": "9458c606-a464-470a-bb35-796f951c775f"
      },
      "source": [
        "import pandas as pd\n",
        "import numpy as np\n",
        "dates = pd.date_range('2021-01-01',periods=6)\n",
        "df = pd.DataFrame(np.random.randn(6,4), index=dates,columns=list('ABCD'))\n",
        "s1 = pd.Series([1,2,3,4,5,6], index=pd.date_range('20130102', periods=6))\n",
        "df[\"F\"]=s1\n",
        "df1=df.reindex(index=dates[0:4], columns=list(df.columns) + ['E'])\n",
        "df1.loc[dates[0]:dates[1],'E'] = 1\n",
        "df1\n",
        "#please provide your answer below this line\n",
        "print(df1)\n",
        "df2 = pd.isna(df1)\n",
        "print(df2)\n",
        "df3 = df1.dropna(how=\"any\")\n",
        "print(df3)\n"
      ],
      "execution_count": 1,
      "outputs": [
        {
          "output_type": "stream",
          "name": "stdout",
          "text": [
            "                   A         B         C         D   F    E\n",
            "2021-01-01  1.361692  1.675875  1.347078 -0.260796 NaN  1.0\n",
            "2021-01-02  1.399031  0.035819 -0.207035 -0.007029 NaN  1.0\n",
            "2021-01-03  0.694218 -0.384823 -0.234250 -0.614700 NaN  NaN\n",
            "2021-01-04  0.231709  0.715627  0.328209  0.645752 NaN  NaN\n",
            "                A      B      C      D     F      E\n",
            "2021-01-01  False  False  False  False  True  False\n",
            "2021-01-02  False  False  False  False  True  False\n",
            "2021-01-03  False  False  False  False  True   True\n",
            "2021-01-04  False  False  False  False  True   True\n",
            "Empty DataFrame\n",
            "Columns: [A, B, C, D, F, E]\n",
            "Index: []\n"
          ]
        }
      ]
    },
    {
      "cell_type": "markdown",
      "metadata": {
        "id": "z1sv0aluZhcd"
      },
      "source": [
        "2. In the data given below,fill the missing data with 20."
      ]
    },
    {
      "cell_type": "code",
      "metadata": {
        "colab": {
          "base_uri": "https://localhost:8080/"
        },
        "id": "x3ZHFCeyZ0j2",
        "outputId": "71556ecb-267e-4220-c51e-35f05fbf4974"
      },
      "source": [
        "import pandas as pd\n",
        "import numpy as np\n",
        "dates = pd.date_range('20210101',periods=6)\n",
        "df = pd.DataFrame(np.random.randn(6,4), index=dates,columns=list('ABCD'))\n",
        "s1 = pd.Series([1,2,3,4,5,6], index=pd.date_range('20130102', periods=6))\n",
        "df[\"F\"]=s1\n",
        "df1=df.reindex(index=dates[0:4], columns=list(df.columns) + ['E'])\n",
        "df1.loc[dates[0]:dates[1],'E'] = 1\n",
        "df1\n",
        "#please provide your answer below this line\n",
        "print(df1)\n",
        "df2 = df1.fillna(value=20)\n",
        "print(df2)"
      ],
      "execution_count": 2,
      "outputs": [
        {
          "output_type": "stream",
          "name": "stdout",
          "text": [
            "                   A         B         C         D   F    E\n",
            "2021-01-01 -2.607997 -0.924581  0.650362  1.350442 NaN  1.0\n",
            "2021-01-02 -1.411758 -0.054083 -0.362070  0.826390 NaN  1.0\n",
            "2021-01-03  0.279847 -0.952991  0.847438 -0.823835 NaN  NaN\n",
            "2021-01-04 -0.143522  1.316946  0.381606  0.108618 NaN  NaN\n",
            "                   A         B         C         D     F     E\n",
            "2021-01-01 -2.607997 -0.924581  0.650362  1.350442  20.0   1.0\n",
            "2021-01-02 -1.411758 -0.054083 -0.362070  0.826390  20.0   1.0\n",
            "2021-01-03  0.279847 -0.952991  0.847438 -0.823835  20.0  20.0\n",
            "2021-01-04 -0.143522  1.316946  0.381606  0.108618  20.0  20.0\n"
          ]
        }
      ]
    },
    {
      "cell_type": "markdown",
      "metadata": {
        "id": "vMzwvpxcZ3G8"
      },
      "source": [
        "3. From the data given below,\n",
        "  - break the data in to pieces from 0 t0 2 ,3 t0 7\n",
        "  - concatenate the pieces.\n",
        "  - concatenate the pieces along axis 1\n",
        "  - label each as 'a' and 'b' respectively and perform concatenation."
      ]
    },
    {
      "cell_type": "code",
      "metadata": {
        "colab": {
          "base_uri": "https://localhost:8080/"
        },
        "id": "LxGwKPTVbbXV",
        "outputId": "e1c7d0d8-50c5-45bd-d12c-947148f07b79"
      },
      "source": [
        "import pandas as pd\n",
        "import numpy as np\n",
        "df = pd.DataFrame(np.random.randn(10, 4))\n",
        "df\n",
        "#please provide your answer below this line\n",
        "print(df)\n",
        "df1 = df[0:2]\n",
        "df2 = df[3:7]\n",
        "print(df1)\n",
        "print(df2)\n",
        "df3 = pd.concat([df1,df2])\n",
        "print(df3)\n",
        "df4 = pd.concat([df1,df2],axis=1)\n",
        "print(df4)\n",
        "df5 = pd.concat([df1,df2],keys=[\"a\",\"b\"])\n",
        "print(df5)\n"
      ],
      "execution_count": 7,
      "outputs": [
        {
          "output_type": "stream",
          "name": "stdout",
          "text": [
            "          0         1         2         3\n",
            "0 -2.267617 -0.244101  0.406036 -0.682606\n",
            "1 -0.590610 -0.227202  1.335328 -1.304588\n",
            "2  0.475622 -1.435941 -0.736538 -1.051285\n",
            "3 -0.756470  0.067209  0.091638 -1.116715\n",
            "4 -0.645626 -0.353856  0.807470  0.015388\n",
            "5  0.158278  0.519868 -0.922878 -0.059210\n",
            "6 -0.679074 -0.658473  0.716355  1.587204\n",
            "7 -0.289698 -0.606265  0.297103 -0.159065\n",
            "8  1.485191 -0.168488  1.033184 -0.383270\n",
            "9  1.408313 -1.027081 -1.194528  0.606879\n",
            "          0         1         2         3\n",
            "0 -2.267617 -0.244101  0.406036 -0.682606\n",
            "1 -0.590610 -0.227202  1.335328 -1.304588\n",
            "          0         1         2         3\n",
            "3 -0.756470  0.067209  0.091638 -1.116715\n",
            "4 -0.645626 -0.353856  0.807470  0.015388\n",
            "5  0.158278  0.519868 -0.922878 -0.059210\n",
            "6 -0.679074 -0.658473  0.716355  1.587204\n",
            "          0         1         2         3\n",
            "0 -2.267617 -0.244101  0.406036 -0.682606\n",
            "1 -0.590610 -0.227202  1.335328 -1.304588\n",
            "3 -0.756470  0.067209  0.091638 -1.116715\n",
            "4 -0.645626 -0.353856  0.807470  0.015388\n",
            "5  0.158278  0.519868 -0.922878 -0.059210\n",
            "6 -0.679074 -0.658473  0.716355  1.587204\n",
            "          0         1         2  ...         1         2         3\n",
            "0 -2.267617 -0.244101  0.406036  ...       NaN       NaN       NaN\n",
            "1 -0.590610 -0.227202  1.335328  ...       NaN       NaN       NaN\n",
            "3       NaN       NaN       NaN  ...  0.067209  0.091638 -1.116715\n",
            "4       NaN       NaN       NaN  ... -0.353856  0.807470  0.015388\n",
            "5       NaN       NaN       NaN  ...  0.519868 -0.922878 -0.059210\n",
            "6       NaN       NaN       NaN  ... -0.658473  0.716355  1.587204\n",
            "\n",
            "[6 rows x 8 columns]\n",
            "            0         1         2         3\n",
            "a 0 -2.267617 -0.244101  0.406036 -0.682606\n",
            "  1 -0.590610 -0.227202  1.335328 -1.304588\n",
            "b 3 -0.756470  0.067209  0.091638 -1.116715\n",
            "  4 -0.645626 -0.353856  0.807470  0.015388\n",
            "  5  0.158278  0.519868 -0.922878 -0.059210\n",
            "  6 -0.679074 -0.658473  0.716355  1.587204\n"
          ]
        }
      ]
    },
    {
      "cell_type": "code",
      "metadata": {
        "id": "h290MAgudPQI"
      },
      "source": [
        ""
      ],
      "execution_count": null,
      "outputs": []
    }
  ]
}