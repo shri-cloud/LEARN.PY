{
  "nbformat": 4,
  "nbformat_minor": 0,
  "metadata": {
    "colab": {
      "name": "TASK 19.ipynb",
      "provenance": [],
      "include_colab_link": true
    },
    "kernelspec": {
      "name": "python3",
      "display_name": "Python 3"
    },
    "language_info": {
      "name": "python"
    }
  },
  "cells": [
    {
      "cell_type": "markdown",
      "metadata": {
        "id": "view-in-github",
        "colab_type": "text"
      },
      "source": [
        "<a href=\"https://colab.research.google.com/github/shri-cloud/LEARN.PY/blob/main/TASK_19.ipynb\" target=\"_parent\"><img src=\"https://colab.research.google.com/assets/colab-badge.svg\" alt=\"Open In Colab\"/></a>"
      ]
    },
    {
      "cell_type": "markdown",
      "metadata": {
        "id": "6J-6GvX2JUcC"
      },
      "source": [
        "1. Create a DataFrame by passing a random numpy array,with a dateted index and labelled columns and display,\n",
        "  - where values of the column A is greater than 0.\n",
        "  - where values of the columns A is greater than 0 and B greater than -1.\n",
        "  - where values of the columns A  is greater than 0 or B greater than -1.\n"
      ]
    },
    {
      "cell_type": "code",
      "metadata": {
        "id": "xX-5VikpLcHL"
      },
      "source": [
        "#please type your code below this line.\n",
        "import numpy as np\n",
        "import pandas as pd\n",
        "\n",
        "date = pd.date_range('2021-09-01',periods=4)\n",
        "df = pd.DataFrame(np.random.randn(4,2), index=date)\n",
        "print(df)\n",
        "\n",
        "df1 = df['A']>0\n",
        "print(df1)\n",
        "df2 = df[(df.A>0) & (df.B>-1)]\n",
        "print(df2)\n",
        "df3 = df[(df.A>0) | (df.B>-1)]\n",
        "print(df3)"
      ],
      "execution_count": null,
      "outputs": []
    },
    {
      "cell_type": "markdown",
      "metadata": {
        "id": "1WAf9SbwLp6o"
      },
      "source": [
        "2. Create a DataFrame by passing a random numpy array,with a dateted index and labelled columns and check if ,\n",
        "  - the values of the table are greater the zero or not.\n",
        "  - the value at the postion (0,0) is equal to NaN or not."
      ]
    },
    {
      "cell_type": "code",
      "metadata": {
        "id": "rBrt8pMeM2Q5",
        "outputId": "e4cbe07f-75e6-4a79-fea3-0cd160703788",
        "colab": {
          "base_uri": "https://localhost:8080/"
        }
      },
      "source": [
        "#please type your code below this line.\n",
        "import numpy as np\n",
        "import pandas as pd\n",
        "from numpy import NaN\n",
        "\n",
        "df = pd.DataFrame(np.random.randn(4,2), index=date)\n",
        "print(df)\n",
        "\n",
        "print(\"1)\")\n",
        "df1 = df[df>0]\n",
        "print(df1)\n",
        "\n",
        "print(\"2)\")\n",
        "df2 = df.iloc[0,0]==NaN\n",
        "print(df2)\n",
        "\n",
        "\n"
      ],
      "execution_count": 35,
      "outputs": [
        {
          "output_type": "stream",
          "name": "stdout",
          "text": [
            "                   0         1\n",
            "2021-09-01  0.201030  2.831695\n",
            "2021-09-02 -0.293573  1.011981\n",
            "2021-09-03  0.727457  0.208259\n",
            "2021-09-04 -0.942657  0.690136\n",
            "1)\n",
            "                   0         1\n",
            "2021-09-01  0.201030  2.831695\n",
            "2021-09-02       NaN  1.011981\n",
            "2021-09-03  0.727457  0.208259\n",
            "2021-09-04       NaN  0.690136\n",
            "2)\n",
            "False\n"
          ]
        }
      ]
    },
    {
      "cell_type": "markdown",
      "metadata": {
        "id": "IfM9XYmiNaKB"
      },
      "source": [
        "3. Create a DataFrame by passing a random numpy array,with a dateted index and labelled columns and,\n",
        "  - reindex the index with even dates.\n",
        "  - create a column with values NaN.\n",
        "  - make the values of the first two index of the newly created column as 1"
      ]
    },
    {
      "cell_type": "code",
      "metadata": {
        "id": "F-w8kEfaORg3",
        "outputId": "12662a3e-d3cc-499e-c20f-483cb8167128",
        "colab": {
          "base_uri": "https://localhost:8080/"
        }
      },
      "source": [
        "#please type your answer below this line.\n",
        "import numpy as np\n",
        "import pandas as pd\n",
        "from numpy import NaN\n",
        "list = ['A','B','C']\n",
        "dates = ['2021-09-02','2021-09-04','2021-09-06','2021-09-08']\n",
        "df = pd.DataFrame(np.random.randn(4,2), index=dates)\n",
        "df1 = df.reindex(index=dates)\n",
        "print(df1)\n",
        "\n",
        "df2 = df.reindex(list,axis = 'columns')\n",
        "print(df2)\n",
        "\n",
        "df2[\"C\"] = [\"1\",\"1\",\"NaN\",\"NaN\"]\n",
        "print(df2)\n"
      ],
      "execution_count": 34,
      "outputs": [
        {
          "output_type": "stream",
          "name": "stdout",
          "text": [
            "                   0         1\n",
            "2021-09-02 -0.817067  0.041543\n",
            "2021-09-04  0.708142 -0.480455\n",
            "2021-09-06  1.388473 -0.108802\n",
            "2021-09-08  0.888048  1.674056\n",
            "             A   B   C\n",
            "2021-09-02 NaN NaN NaN\n",
            "2021-09-04 NaN NaN NaN\n",
            "2021-09-06 NaN NaN NaN\n",
            "2021-09-08 NaN NaN NaN\n",
            "             A   B    C\n",
            "2021-09-02 NaN NaN    1\n",
            "2021-09-04 NaN NaN    1\n",
            "2021-09-06 NaN NaN  NaN\n",
            "2021-09-08 NaN NaN  NaN\n"
          ]
        }
      ]
    }
  ]
}